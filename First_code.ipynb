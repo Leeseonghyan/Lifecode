{
  "nbformat": 4,
  "nbformat_minor": 0,
  "metadata": {
    "colab": {
      "provenance": [],
      "authorship_tag": "ABX9TyNmAVZZ7HSWLYZbA8HEpKiV",
      "include_colab_link": true
    },
    "kernelspec": {
      "name": "python3",
      "display_name": "Python 3"
    },
    "language_info": {
      "name": "python"
    }
  },
  "cells": [
    {
      "cell_type": "markdown",
      "metadata": {
        "id": "view-in-github",
        "colab_type": "text"
      },
      "source": [
        "<a href=\"https://colab.research.google.com/github/Leeseonghyan/Lifecode/blob/main/First_code.ipynb\" target=\"_parent\"><img src=\"https://colab.research.google.com/assets/colab-badge.svg\" alt=\"Open In Colab\"/></a>"
      ]
    },
    {
      "cell_type": "markdown",
      "source": [
        "나의 첫번째 코드"
      ],
      "metadata": {
        "id": "fYA74sBozwJl"
      }
    },
    {
      "cell_type": "code",
      "execution_count": 2,
      "metadata": {
        "colab": {
          "base_uri": "https://localhost:8080/"
        },
        "id": "L_yD3aH8yx7f",
        "outputId": "c840c563-493c-4e24-b92c-31b26e5c793d"
      },
      "outputs": [
        {
          "output_type": "stream",
          "name": "stdout",
          "text": [
            "seonghyan\n"
          ]
        }
      ],
      "source": [
        "name = \"seonghyan\";\n",
        "print(name)"
      ]
    },
    {
      "cell_type": "markdown",
      "source": [
        "코딩 두번째, Hello Wolrd! 만들기"
      ],
      "metadata": {
        "id": "zlmexfKG28gk"
      }
    },
    {
      "cell_type": "code",
      "source": [
        "name = \"Hello World!\";\n",
        "print(name)"
      ],
      "metadata": {
        "colab": {
          "base_uri": "https://localhost:8080/"
        },
        "id": "yOQXxq1N3FNv",
        "outputId": "9e4270a7-e09f-471c-f2cb-0691a870a99b"
      },
      "execution_count": 4,
      "outputs": [
        {
          "output_type": "stream",
          "name": "stdout",
          "text": [
            "Hello World!\n"
          ]
        }
      ]
    }
  ]
}